{
 "cells": [
  {
   "cell_type": "markdown",
   "metadata": {},
   "source": [
    "## Ingeniería de Datos con python -Limpieza de datos"
   ]
  },
  {
   "cell_type": "markdown",
   "metadata": {},
   "source": [
    "Data wrangling con Pandas"
   ]
  },
  {
   "cell_type": "code",
   "execution_count": 3,
   "metadata": {},
   "outputs": [],
   "source": [
    "import pandas as pd"
   ]
  },
  {
   "cell_type": "code",
   "execution_count": 5,
   "metadata": {},
   "outputs": [
    {
     "data": {
      "text/html": [
       "<div>\n",
       "<style scoped>\n",
       "    .dataframe tbody tr th:only-of-type {\n",
       "        vertical-align: middle;\n",
       "    }\n",
       "\n",
       "    .dataframe tbody tr th {\n",
       "        vertical-align: top;\n",
       "    }\n",
       "\n",
       "    .dataframe thead th {\n",
       "        text-align: right;\n",
       "    }\n",
       "</style>\n",
       "<table border=\"1\" class=\"dataframe\">\n",
       "  <thead>\n",
       "    <tr style=\"text-align: right;\">\n",
       "      <th></th>\n",
       "      <th>body</th>\n",
       "      <th>title</th>\n",
       "    </tr>\n",
       "  </thead>\n",
       "  <tbody>\n",
       "    <tr>\n",
       "      <th>0</th>\n",
       "      <td>\\r\\n[email protected]\\r\\nUna selva frondosa co...</td>\n",
       "      <td>Visita las cascadas de la Huasteca Potosina y ...</td>\n",
       "    </tr>\n",
       "    <tr>\n",
       "      <th>1</th>\n",
       "      <td>\\r\\nHobbs and shaw es la película alterna qu...</td>\n",
       "      <td>Eiza González, en tráiler de Hobbs and shaw,...</td>\n",
       "    </tr>\n",
       "    <tr>\n",
       "      <th>2</th>\n",
       "      <td>0 % PULSO SOCIAL0 Melissa Joan Hart se convir...</td>\n",
       "      <td>NaN</td>\n",
       "    </tr>\n",
       "    <tr>\n",
       "      <th>3</th>\n",
       "      <td>\\r\\n\\r\\nTransparencia radical para todos. Sin ...</td>\n",
       "      <td>Assange: del mito al ego</td>\n",
       "    </tr>\n",
       "    <tr>\n",
       "      <th>4</th>\n",
       "      <td>\\r\\nCDMX.- Debido al periodo vacacional, las a...</td>\n",
       "      <td>Autopistas México-Puebla y México-Cuernavaca p...</td>\n",
       "    </tr>\n",
       "  </tbody>\n",
       "</table>\n",
       "</div>"
      ],
      "text/plain": [
       "                                                body  \\\n",
       "0  \\r\\n[email protected]\\r\\nUna selva frondosa co...   \n",
       "1  \\r\\nHobbs and shaw es la película alterna qu...   \n",
       "2   0 % PULSO SOCIAL0 Melissa Joan Hart se convir...   \n",
       "3  \\r\\n\\r\\nTransparencia radical para todos. Sin ...   \n",
       "4  \\r\\nCDMX.- Debido al periodo vacacional, las a...   \n",
       "\n",
       "                                               title  \n",
       "0  Visita las cascadas de la Huasteca Potosina y ...  \n",
       "1  Eiza González, en tráiler de Hobbs and shaw,...  \n",
       "2                                                NaN  \n",
       "3                           Assange: del mito al ego  \n",
       "4  Autopistas México-Puebla y México-Cuernavaca p...  "
      ]
     },
     "execution_count": 5,
     "metadata": {},
     "output_type": "execute_result"
    }
   ],
   "source": [
    "dataframe = pd.read_csv('eluniversal_2019_04_18_articles.csv', encoding = 'ISO-8859-1')\n",
    "dataframe.head()"
   ]
  },
  {
   "cell_type": "markdown",
   "metadata": {},
   "source": [
    "Añadir el newspaper uid"
   ]
  },
  {
   "cell_type": "code",
   "execution_count": 8,
   "metadata": {},
   "outputs": [],
   "source": [
    "dataframe['newspaper_uid']='eluniversal'"
   ]
  },
  {
   "cell_type": "code",
   "execution_count": 9,
   "metadata": {},
   "outputs": [
    {
     "data": {
      "text/html": [
       "<div>\n",
       "<style scoped>\n",
       "    .dataframe tbody tr th:only-of-type {\n",
       "        vertical-align: middle;\n",
       "    }\n",
       "\n",
       "    .dataframe tbody tr th {\n",
       "        vertical-align: top;\n",
       "    }\n",
       "\n",
       "    .dataframe thead th {\n",
       "        text-align: right;\n",
       "    }\n",
       "</style>\n",
       "<table border=\"1\" class=\"dataframe\">\n",
       "  <thead>\n",
       "    <tr style=\"text-align: right;\">\n",
       "      <th></th>\n",
       "      <th>body</th>\n",
       "      <th>title</th>\n",
       "      <th>newspaper_uid</th>\n",
       "    </tr>\n",
       "  </thead>\n",
       "  <tbody>\n",
       "    <tr>\n",
       "      <th>0</th>\n",
       "      <td>\\r\\n[email protected]\\r\\nUna selva frondosa co...</td>\n",
       "      <td>Visita las cascadas de la Huasteca Potosina y ...</td>\n",
       "      <td>eluniversal</td>\n",
       "    </tr>\n",
       "    <tr>\n",
       "      <th>1</th>\n",
       "      <td>\\r\\nHobbs and shaw es la película alterna qu...</td>\n",
       "      <td>Eiza González, en tráiler de Hobbs and shaw,...</td>\n",
       "      <td>eluniversal</td>\n",
       "    </tr>\n",
       "    <tr>\n",
       "      <th>2</th>\n",
       "      <td>0 % PULSO SOCIAL0 Melissa Joan Hart se convir...</td>\n",
       "      <td>NaN</td>\n",
       "      <td>eluniversal</td>\n",
       "    </tr>\n",
       "    <tr>\n",
       "      <th>3</th>\n",
       "      <td>\\r\\n\\r\\nTransparencia radical para todos. Sin ...</td>\n",
       "      <td>Assange: del mito al ego</td>\n",
       "      <td>eluniversal</td>\n",
       "    </tr>\n",
       "    <tr>\n",
       "      <th>4</th>\n",
       "      <td>\\r\\nCDMX.- Debido al periodo vacacional, las a...</td>\n",
       "      <td>Autopistas México-Puebla y México-Cuernavaca p...</td>\n",
       "      <td>eluniversal</td>\n",
       "    </tr>\n",
       "  </tbody>\n",
       "</table>\n",
       "</div>"
      ],
      "text/plain": [
       "                                                body  \\\n",
       "0  \\r\\n[email protected]\\r\\nUna selva frondosa co...   \n",
       "1  \\r\\nHobbs and shaw es la película alterna qu...   \n",
       "2   0 % PULSO SOCIAL0 Melissa Joan Hart se convir...   \n",
       "3  \\r\\n\\r\\nTransparencia radical para todos. Sin ...   \n",
       "4  \\r\\nCDMX.- Debido al periodo vacacional, las a...   \n",
       "\n",
       "                                               title newspaper_uid  \n",
       "0  Visita las cascadas de la Huasteca Potosina y ...   eluniversal  \n",
       "1  Eiza González, en tráiler de Hobbs and shaw,...   eluniversal  \n",
       "2                                                NaN   eluniversal  \n",
       "3                           Assange: del mito al ego   eluniversal  \n",
       "4  Autopistas México-Puebla y México-Cuernavaca p...   eluniversal  "
      ]
     },
     "execution_count": 9,
     "metadata": {},
     "output_type": "execute_result"
    }
   ],
   "source": [
    "dataframe.head()"
   ]
  },
  {
   "cell_type": "markdown",
   "metadata": {},
   "source": [
    "obtener el host"
   ]
  },
  {
   "cell_type": "code",
   "execution_count": 12,
   "metadata": {},
   "outputs": [
    {
     "data": {
      "text/html": [
       "<div>\n",
       "<style scoped>\n",
       "    .dataframe tbody tr th:only-of-type {\n",
       "        vertical-align: middle;\n",
       "    }\n",
       "\n",
       "    .dataframe tbody tr th {\n",
       "        vertical-align: top;\n",
       "    }\n",
       "\n",
       "    .dataframe thead th {\n",
       "        text-align: right;\n",
       "    }\n",
       "</style>\n",
       "<table border=\"1\" class=\"dataframe\">\n",
       "  <thead>\n",
       "    <tr style=\"text-align: right;\">\n",
       "      <th></th>\n",
       "      <th>body</th>\n",
       "      <th>title</th>\n",
       "      <th>newspaper_uid</th>\n",
       "      <th>host</th>\n",
       "    </tr>\n",
       "  </thead>\n",
       "  <tbody>\n",
       "    <tr>\n",
       "      <th>0</th>\n",
       "      <td>\\r\\n[email protected]\\r\\nUna selva frondosa co...</td>\n",
       "      <td>Visita las cascadas de la Huasteca Potosina y ...</td>\n",
       "      <td>eluniversal</td>\n",
       "      <td></td>\n",
       "    </tr>\n",
       "    <tr>\n",
       "      <th>1</th>\n",
       "      <td>\\r\\nHobbs and shaw es la película alterna qu...</td>\n",
       "      <td>Eiza González, en tráiler de Hobbs and shaw,...</td>\n",
       "      <td>eluniversal</td>\n",
       "      <td></td>\n",
       "    </tr>\n",
       "    <tr>\n",
       "      <th>2</th>\n",
       "      <td>0 % PULSO SOCIAL0 Melissa Joan Hart se convir...</td>\n",
       "      <td>NaN</td>\n",
       "      <td>eluniversal</td>\n",
       "      <td></td>\n",
       "    </tr>\n",
       "    <tr>\n",
       "      <th>3</th>\n",
       "      <td>\\r\\n\\r\\nTransparencia radical para todos. Sin ...</td>\n",
       "      <td>Assange: del mito al ego</td>\n",
       "      <td>eluniversal</td>\n",
       "      <td></td>\n",
       "    </tr>\n",
       "    <tr>\n",
       "      <th>4</th>\n",
       "      <td>\\r\\nCDMX.- Debido al periodo vacacional, las a...</td>\n",
       "      <td>Autopistas México-Puebla y México-Cuernavaca p...</td>\n",
       "      <td>eluniversal</td>\n",
       "      <td></td>\n",
       "    </tr>\n",
       "  </tbody>\n",
       "</table>\n",
       "</div>"
      ],
      "text/plain": [
       "                                                body  \\\n",
       "0  \\r\\n[email protected]\\r\\nUna selva frondosa co...   \n",
       "1  \\r\\nHobbs and shaw es la película alterna qu...   \n",
       "2   0 % PULSO SOCIAL0 Melissa Joan Hart se convir...   \n",
       "3  \\r\\n\\r\\nTransparencia radical para todos. Sin ...   \n",
       "4  \\r\\nCDMX.- Debido al periodo vacacional, las a...   \n",
       "\n",
       "                                               title newspaper_uid host  \n",
       "0  Visita las cascadas de la Huasteca Potosina y ...   eluniversal       \n",
       "1  Eiza González, en tráiler de Hobbs and shaw,...   eluniversal       \n",
       "2                                                NaN   eluniversal       \n",
       "3                           Assange: del mito al ego   eluniversal       \n",
       "4  Autopistas México-Puebla y México-Cuernavaca p...   eluniversal       "
      ]
     },
     "execution_count": 12,
     "metadata": {},
     "output_type": "execute_result"
    }
   ],
   "source": [
    "from urllib.parse import urlparse\n",
    "dataframe['host']= dataframe['body'].apply(lambda body: urlparse(body).netloc )\n",
    "dataframe.head()"
   ]
  },
  {
   "cell_type": "code",
   "execution_count": null,
   "metadata": {},
   "outputs": [],
   "source": []
  }
 ],
 "metadata": {
  "kernelspec": {
   "display_name": "Python 3",
   "language": "python",
   "name": "python3"
  },
  "language_info": {
   "codemirror_mode": {
    "name": "ipython",
    "version": 3
   },
   "file_extension": ".py",
   "mimetype": "text/x-python",
   "name": "python",
   "nbconvert_exporter": "python",
   "pygments_lexer": "ipython3",
   "version": "3.7.1"
  }
 },
 "nbformat": 4,
 "nbformat_minor": 2
}
